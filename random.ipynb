{
 "cells": [
  {
   "cell_type": "markdown",
   "metadata": {},
   "source": [
    "GENERATING RANDOM NUMBERS:"
   ]
  },
  {
   "cell_type": "code",
   "execution_count": 5,
   "metadata": {},
   "outputs": [
    {
     "name": "stdout",
     "output_type": "stream",
     "text": [
      "guess a number: 30\n",
      "your guess is too low\n",
      "guess a number: 5\n",
      "your guess is too low\n",
      "guess a number: 90\n",
      "your guess is too high\n",
      "guess a number: 50\n",
      "your guess is too low\n",
      "you lose\n"
     ]
    }
   ],
   "source": [
    "import random\n",
    "\n",
    "secret = random.randint(1,100)\n",
    "win = False\n",
    "\n",
    "for i in range(1,5):\n",
    "    guess = int(input(\"guess a number: \"))\n",
    "    \n",
    "    if guess == secret:\n",
    "        win = True\n",
    "        break\n",
    "        \n",
    "    elif guess > secret:\n",
    "        print(\"your guess is too high\")\n",
    "        \n",
    "    else:\n",
    "        print(\"your guess is too low\")\n",
    "        \n",
    "        \n",
    "if win == True:\n",
    "    print(\"you win\")\n",
    "  \n",
    "else:\n",
    "    print(\"you lose\")\n",
    "    "
   ]
  }
 ],
 "metadata": {
  "kernelspec": {
   "display_name": "Python 3",
   "language": "python",
   "name": "python3"
  },
  "language_info": {
   "codemirror_mode": {
    "name": "ipython",
    "version": 3
   },
   "file_extension": ".py",
   "mimetype": "text/x-python",
   "name": "python",
   "nbconvert_exporter": "python",
   "pygments_lexer": "ipython3",
   "version": "3.6.8"
  }
 },
 "nbformat": 4,
 "nbformat_minor": 2
}

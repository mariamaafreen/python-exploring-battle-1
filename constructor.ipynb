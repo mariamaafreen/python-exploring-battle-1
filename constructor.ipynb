{
 "cells": [
  {
   "cell_type": "markdown",
   "metadata": {},
   "source": [
    "CONSTRUCTORS:\n",
    "\n",
    "Default constructor"
   ]
  },
  {
   "cell_type": "code",
   "execution_count": 6,
   "metadata": {},
   "outputs": [
    {
     "name": "stdout",
     "output_type": "stream",
     "text": [
      "id:  1\n",
      "name:  sanu\n",
      "age:  19\n",
      "grade: s\n"
     ]
    }
   ],
   "source": [
    "class student: \n",
    "    \n",
    "    _id = \"\"\n",
    "    name = \"\"\n",
    "    age = \"\"\n",
    "    grade = \"\"\n",
    "    \n",
    "  \n",
    "    def __init__(self): \n",
    "        self.id = 1\n",
    "        self.name = \"sanu\"\n",
    "        self.age = 19\n",
    "        self.grade = \"s\"\n",
    "  \n",
    "    \n",
    "    def print_details(self): \n",
    "        print(\"id: \",self.id)\n",
    "        print(\"name: \",self.name)\n",
    "        print(\"age: \",self.age)\n",
    "        print(\"grade:\",self.grade)\n",
    "        \n",
    "  \n",
    "\n",
    "obj = student() \n",
    "\n",
    "\n",
    "obj.print_details() \n"
   ]
  },
  {
   "cell_type": "markdown",
   "metadata": {},
   "source": [
    "Parameterized Constructor"
   ]
  },
  {
   "cell_type": "code",
   "execution_count": 7,
   "metadata": {},
   "outputs": [
    {
     "name": "stdout",
     "output_type": "stream",
     "text": [
      "First number = 1000\n",
      "Second number = 2000\n",
      "Addition of two numbers = 3000\n"
     ]
    }
   ],
   "source": [
    "class Addition: \n",
    "    first = 0\n",
    "    second = 0\n",
    "    answer = 0\n",
    "      \n",
    "    \n",
    "    def __init__(self, f, s): \n",
    "        self.first = f \n",
    "        self.second = s \n",
    "      \n",
    "    def display(self): \n",
    "        print(\"First number = \" + str(self.first)) \n",
    "        print(\"Second number = \" + str(self.second)) \n",
    "        print(\"Addition of two numbers = \" + str(self.answer)) \n",
    "  \n",
    "    def calculate(self): \n",
    "        self.answer = self.first + self.second \n",
    "  \n",
    "\n",
    "obj = Addition(1000, 2000) \n",
    "  \n",
    "\n",
    "obj.calculate() \n",
    "  \n",
    "\n",
    "obj.display() "
   ]
  }
 ],
 "metadata": {
  "kernelspec": {
   "display_name": "Python 3",
   "language": "python",
   "name": "python3"
  },
  "language_info": {
   "codemirror_mode": {
    "name": "ipython",
    "version": 3
   },
   "file_extension": ".py",
   "mimetype": "text/x-python",
   "name": "python",
   "nbconvert_exporter": "python",
   "pygments_lexer": "ipython3",
   "version": "3.6.8"
  }
 },
 "nbformat": 4,
 "nbformat_minor": 2
}

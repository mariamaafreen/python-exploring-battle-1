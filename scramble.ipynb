{
 "cells": [
  {
   "cell_type": "markdown",
   "metadata": {},
   "source": [
    "GENARATING SCRAMBLE WORDS USING RANDOM MODULE:"
   ]
  },
  {
   "cell_type": "code",
   "execution_count": 4,
   "metadata": {},
   "outputs": [
    {
     "name": "stdout",
     "output_type": "stream",
     "text": [
      "[['c', 'a', 't'], ['d', 'o', 'g'], ['c', 'h', 'i', 'c', 'k', 'e', 'n'], ['i', 'n', 't', 'e', 'l', 'l', 'i', 'g', 'e', 'n', 't'], ['c', 'a', 'r', 'd', 'b', 'o', 'a', 'r', 'd']]\n",
      "[['t', 'c', 'a'], ['d', 'o', 'g'], ['c', 'h', 'i', 'c', 'k', 'e', 'n'], ['i', 'n', 't', 'e', 'l', 'l', 'i', 'g', 'e', 'n', 't'], ['c', 'a', 'r', 'd', 'b', 'o', 'a', 'r', 'd']]\n",
      "[['t', 'c', 'a'], ['d', 'o', 'g'], ['c', 'h', 'i', 'c', 'k', 'e', 'n'], ['i', 'n', 't', 'e', 'l', 'l', 'i', 'g', 'e', 'n', 't'], ['c', 'a', 'r', 'd', 'b', 'o', 'a', 'r', 'd']]\n",
      "[['t', 'c', 'a'], ['d', 'o', 'g'], ['i', 'n', 'h', 'e', 'k', 'c', 'c'], ['i', 'n', 't', 'e', 'l', 'l', 'i', 'g', 'e', 'n', 't'], ['c', 'a', 'r', 'd', 'b', 'o', 'a', 'r', 'd']]\n",
      "[['t', 'c', 'a'], ['d', 'o', 'g'], ['i', 'n', 'h', 'e', 'k', 'c', 'c'], ['l', 'n', 'g', 't', 'n', 'l', 'e', 'i', 'e', 't', 'i'], ['c', 'a', 'r', 'd', 'b', 'o', 'a', 'r', 'd']]\n",
      "[['t', 'c', 'a'], ['d', 'o', 'g'], ['i', 'n', 'h', 'e', 'k', 'c', 'c'], ['l', 'n', 'g', 't', 'n', 'l', 'e', 'i', 'e', 't', 'i'], ['c', 'o', 'd', 'a', 'r', 'b', 'r', 'a', 'd']]\n",
      "tca\n",
      "dog\n",
      "inhekcc\n",
      "lngtnleieti\n",
      "codarbrad\n"
     ]
    }
   ],
   "source": [
    "import random\n",
    "\n",
    "words = ['cat','dog','chicken','intelligent','cardboard']\n",
    "\n",
    "list_words = [list(w) for w in words]\n",
    "print(list_words)\n",
    "\n",
    "for w in list_words:\n",
    "    random.shuffle(w)\n",
    "    print(list_words)\n",
    "\n",
    "scrambled_wors = [''.join(w) for w in list_words]\n",
    "\n",
    "for w in scrambled_wors:\n",
    "    print(w)\n",
    "    "
   ]
  },
  {
   "cell_type": "code",
   "execution_count": null,
   "metadata": {},
   "outputs": [],
   "source": []
  }
 ],
 "metadata": {
  "kernelspec": {
   "display_name": "Python 3",
   "language": "python",
   "name": "python3"
  },
  "language_info": {
   "codemirror_mode": {
    "name": "ipython",
    "version": 3
   },
   "file_extension": ".py",
   "mimetype": "text/x-python",
   "name": "python",
   "nbconvert_exporter": "python",
   "pygments_lexer": "ipython3",
   "version": "3.6.8"
  }
 },
 "nbformat": 4,
 "nbformat_minor": 2
}

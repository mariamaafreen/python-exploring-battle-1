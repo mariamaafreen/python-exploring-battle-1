{
 "cells": [
  {
   "cell_type": "code",
   "execution_count": 1,
   "metadata": {},
   "outputs": [
    {
     "name": "stdout",
     "output_type": "stream",
     "text": [
      "table created successfully\n"
     ]
    }
   ],
   "source": [
    "import sqlite3\n",
    "db=sqlite3.connect('test.db')\n",
    "try:        \n",
    "    cur =db.cursor()\n",
    "    cur.execute('''CREATE TABLE student (\n",
    "    StudentID INTEGER PRIMARY KEY AUTOINCREMENT,\n",
    "    name TEXT (20) NOT NULL,\n",
    "    age INTEGER,\n",
    "    marks REAL);''')\n",
    "    print ('table created successfully')\n",
    "except:\n",
    "    print ('error in operation')\n",
    "    db.rollback()\n",
    "db.close()"
   ]
  },
  {
   "cell_type": "code",
   "execution_count": 2,
   "metadata": {},
   "outputs": [
    {
     "name": "stdout",
     "output_type": "stream",
     "text": [
      "one record added successfully\n"
     ]
    }
   ],
   "source": [
    "import sqlite3\n",
    "db=sqlite3.connect('test.db')\n",
    "qry=\"insert into student (name, age, marks) values('sanu', 20, 50);\"\n",
    "try:\n",
    "    cur=db.cursor()\n",
    "    cur.execute(qry)\n",
    "    db.commit()\n",
    "    print (\"one record added successfully\")\n",
    "except:\n",
    "    print (\"error in operation\")\n",
    "    db.rollback()\n",
    "db.close()"
   ]
  },
  {
   "cell_type": "markdown",
   "metadata": {},
   "source": [
    "ADDING MANY RECORDS:"
   ]
  },
  {
   "cell_type": "code",
   "execution_count": 3,
   "metadata": {},
   "outputs": [
    {
     "name": "stdout",
     "output_type": "stream",
     "text": [
      "records added successfully\n"
     ]
    }
   ],
   "source": [
    "import sqlite3\n",
    "db=sqlite3.connect('test.db')\n",
    "qry=\"insert into student (name, age, marks) values(?,?,?);\"\n",
    "students=[('ayaan', 18, 70), ('minu', 25, 87)]\n",
    "try:\n",
    "    cur=db.cursor()\n",
    "    cur.executemany(qry, students)\n",
    "    db.commit()\n",
    "    print (\"records added successfully\")\n",
    "except:\n",
    "    print (\"error in operation\")\n",
    "    db.rollback()\n",
    "db.close()"
   ]
  },
  {
   "cell_type": "markdown",
   "metadata": {},
   "source": [
    "FETCH RECORD:"
   ]
  },
  {
   "cell_type": "code",
   "execution_count": 4,
   "metadata": {},
   "outputs": [
    {
     "name": "stdout",
     "output_type": "stream",
     "text": [
      "(1, 'sanu', 20, 50.0)\n",
      "(2, 'ayaan', 18, 70.0)\n",
      "(3, 'minu', 25, 87.0)\n"
     ]
    }
   ],
   "source": [
    "import sqlite3\n",
    "db=sqlite3.connect('test.db')\n",
    "sql=\"SELECT * from student;\"\n",
    "cur=db.cursor()\n",
    "cur.execute(sql)\n",
    "while True:\n",
    "    record=cur.fetchone()\n",
    "    if record==None:\n",
    "        break\n",
    "    print (record)\n",
    "db.close()"
   ]
  },
  {
   "cell_type": "markdown",
   "metadata": {},
   "source": [
    "UPDATE:"
   ]
  },
  {
   "cell_type": "code",
   "execution_count": 5,
   "metadata": {},
   "outputs": [
    {
     "name": "stdout",
     "output_type": "stream",
     "text": [
      "record updated successfully\n"
     ]
    }
   ],
   "source": [
    "import sqlite3\n",
    "db=sqlite3.connect('test.db')\n",
    "qry=\"update student set age=? where name=?;\"\n",
    "try:\n",
    "    cur=db.cursor()\n",
    "    cur.execute(qry, (19,'sanu'))\n",
    "    db.commit()\n",
    "    print(\"record updated successfully\")\n",
    "except:\n",
    "    print(\"error in operation\")\n",
    "    db.rollback()\n",
    "db.close()"
   ]
  },
  {
   "cell_type": "code",
   "execution_count": 9,
   "metadata": {},
   "outputs": [
    {
     "name": "stdout",
     "output_type": "stream",
     "text": [
      "(1, 'sanu', 19, 50.0)\n",
      "(2, 'ayaan', 18, 70.0)\n",
      "(3, 'minu', 25, 87.0)\n"
     ]
    }
   ],
   "source": [
    "import sqlite3\n",
    "db=sqlite3.connect('test.db')\n",
    "sql=\"SELECT * from student;\"\n",
    "cur=db.cursor()\n",
    "cur.execute(sql)\n",
    "while True:\n",
    "    record=cur.fetchone()\n",
    "    if record==None:\n",
    "        break\n",
    "    print (record)\n",
    "db.close()"
   ]
  },
  {
   "cell_type": "markdown",
   "metadata": {},
   "source": [
    "DELETE RECORD:"
   ]
  },
  {
   "cell_type": "code",
   "execution_count": 10,
   "metadata": {},
   "outputs": [
    {
     "name": "stdout",
     "output_type": "stream",
     "text": [
      "record deleted\n"
     ]
    }
   ],
   "source": [
    "import sqlite3\n",
    "db = sqlite3.connect('test.db')\n",
    "qry = \"DELETE from student where name ='ayaan';\"\n",
    "try:\n",
    "    cur = db.cursor()\n",
    "    cur.execute(qry)\n",
    "    db.commit()\n",
    "    print(\"record deleted\")\n",
    "except:\n",
    "    print(\"error\")\n",
    "    db.rollback()\n",
    "db.close()    \n",
    "    "
   ]
  },
  {
   "cell_type": "code",
   "execution_count": 11,
   "metadata": {},
   "outputs": [
    {
     "name": "stdout",
     "output_type": "stream",
     "text": [
      "(1, 'sanu', 19, 50.0)\n",
      "(3, 'minu', 25, 87.0)\n"
     ]
    }
   ],
   "source": [
    "import sqlite3\n",
    "db=sqlite3.connect('test.db')\n",
    "sql=\"SELECT * from student;\"\n",
    "cur=db.cursor()\n",
    "cur.execute(sql)\n",
    "while True:\n",
    "    record=cur.fetchone()\n",
    "    if record==None:\n",
    "        break\n",
    "    print (record)\n",
    "db.close()"
   ]
  },
  {
   "cell_type": "code",
   "execution_count": null,
   "metadata": {},
   "outputs": [],
   "source": []
  }
 ],
 "metadata": {
  "kernelspec": {
   "display_name": "Python 3",
   "language": "python",
   "name": "python3"
  },
  "language_info": {
   "codemirror_mode": {
    "name": "ipython",
    "version": 3
   },
   "file_extension": ".py",
   "mimetype": "text/x-python",
   "name": "python",
   "nbconvert_exporter": "python",
   "pygments_lexer": "ipython3",
   "version": "3.6.8"
  }
 },
 "nbformat": 4,
 "nbformat_minor": 2
}
